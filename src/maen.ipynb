{
 "cells": [
  {
   "cell_type": "code",
   "execution_count": 1,
   "id": "338588e7",
   "metadata": {},
   "outputs": [],
   "source": [
    "import numpy as np "
   ]
  },
  {
   "cell_type": "code",
   "execution_count": null,
   "id": "ad05ca55",
   "metadata": {},
   "outputs": [
    {
     "name": "stdout",
     "output_type": "stream",
     "text": [
      "[0 1 2 3 4 5 6 7 8 9]\n"
     ]
    }
   ],
   "source": [
    "n = int(input(\"Enter the size of the array: \"))\n",
    "n = 10\n",
    "arr = []\n",
    "\n",
    "for i in range(n):\n",
    "    if i == 1:\n",
    "        A[i] = 1\n",
    "    else:\n",
    "        p = 1\n",
    "        while y = 1 <i:\n",
    "            p = p *"
   ]
  },
  {
   "cell_type": "code",
   "execution_count": null,
   "id": "e944f4bc",
   "metadata": {},
   "outputs": [],
   "source": []
  }
 ],
 "metadata": {
  "kernelspec": {
   "display_name": "base",
   "language": "python",
   "name": "python3"
  },
  "language_info": {
   "codemirror_mode": {
    "name": "ipython",
    "version": 3
   },
   "file_extension": ".py",
   "mimetype": "text/x-python",
   "name": "python",
   "nbconvert_exporter": "python",
   "pygments_lexer": "ipython3",
   "version": "3.11.9"
  }
 },
 "nbformat": 4,
 "nbformat_minor": 5
}
